{
 "metadata": {
  "kernelspec": {
   "language": "python",
   "display_name": "Python 3",
   "name": "python3"
  },
  "language_info": {
   "name": "python",
   "version": "3.7.12",
   "mimetype": "text/x-python",
   "codemirror_mode": {
    "name": "ipython",
    "version": 3
   },
   "pygments_lexer": "ipython3",
   "nbconvert_exporter": "python",
   "file_extension": ".py"
  }
 },
 "nbformat_minor": 4,
 "nbformat": 4,
 "cells": [
  {
   "cell_type": "markdown",
   "source": [
    "# Fake News Classification - LSTM\n",
    "\n",
    "## 1. Imports"
   ],
   "metadata": {}
  },
  {
   "cell_type": "code",
   "source": [
    "!pip install clearml > /dev/null 2>&1"
   ],
   "metadata": {
    "execution": {
     "iopub.status.busy": "2022-06-21T20:49:18.422687Z",
     "iopub.execute_input": "2022-06-21T20:49:18.423460Z",
     "iopub.status.idle": "2022-06-21T20:49:31.309304Z",
     "shell.execute_reply.started": "2022-06-21T20:49:18.423366Z",
     "shell.execute_reply": "2022-06-21T20:49:31.308299Z"
    },
    "trusted": true
   },
   "execution_count": 1,
   "outputs": []
  },
  {
   "cell_type": "code",
   "source": [
    "import os\n",
    "import string\n",
    "import re\n",
    "\n",
    "import matplotlib.pyplot as plt\n",
    "import pandas as pd\n",
    "import numpy as np\n",
    "import seaborn as sns\n",
    "from sklearn import model_selection\n",
    "from sklearn.feature_extraction.text import CountVectorizer\n",
    "from sklearn.metrics import accuracy_score, confusion_matrix, f1_score\n",
    "from sklearn.naive_bayes import GaussianNB\n",
    "from sklearn.linear_model import LogisticRegression, SGDClassifier\n",
    "from sklearn.neighbors import KNeighborsClassifier\n",
    "from sklearn.tree import DecisionTreeClassifier\n",
    "from sklearn.ensemble import RandomForestClassifier, GradientBoostingClassifier\n",
    "from wordcloud import WordCloud, STOPWORDS, ImageColorGenerator\n",
    "import nltk\n",
    "\n",
    "from joblib import dump, load"
   ],
   "metadata": {
    "_uuid": "8f2839f25d086af736a60e9eeb907d3b93b6e0e5",
    "_cell_guid": "b1076dfc-b9ad-4769-8c92-a6c4dae69d19",
    "execution": {
     "iopub.status.busy": "2022-06-21T20:49:31.312904Z",
     "iopub.execute_input": "2022-06-21T20:49:31.313213Z",
     "iopub.status.idle": "2022-06-21T20:49:32.514973Z",
     "shell.execute_reply.started": "2022-06-21T20:49:31.313183Z",
     "shell.execute_reply": "2022-06-21T20:49:32.514187Z"
    },
    "trusted": true
   },
   "execution_count": 2,
   "outputs": []
  },
  {
   "cell_type": "markdown",
   "source": [
    "### Logging"
   ],
   "metadata": {}
  },
  {
   "cell_type": "code",
   "source": [
    "from clearml import Task, OutputModel\n",
    "from kaggle_secrets import UserSecretsClient\n",
    "\n",
    "user_secrets = UserSecretsClient()\n",
    "\n",
    "web_server = 'https://app.community.clear.ml'\n",
    "api_server = 'https://api.community.clear.ml'\n",
    "files_server = 'https://files.community.clear.ml'\n",
    "access_key = user_secrets.get_secret(\"clear_ml_access_key\")\n",
    "secret_key = user_secrets.get_secret(\"clear_ml_secret_key\")\n",
    "\n",
    "Task.set_credentials(web_host=web_server,\n",
    "                     api_host=api_server,\n",
    "                     files_host=files_server,\n",
    "                     key=access_key,\n",
    "                     secret=secret_key)"
   ],
   "metadata": {
    "execution": {
     "iopub.status.busy": "2022-06-21T20:49:32.516313Z",
     "iopub.execute_input": "2022-06-21T20:49:32.516664Z",
     "iopub.status.idle": "2022-06-21T20:49:34.966216Z",
     "shell.execute_reply.started": "2022-06-21T20:49:32.516607Z",
     "shell.execute_reply": "2022-06-21T20:49:34.965339Z"
    },
    "trusted": true
   },
   "execution_count": 3,
   "outputs": []
  },
  {
   "cell_type": "markdown",
   "source": [
    "## 2. Data loading and preprocessing\n",
    "\n",
    "Please note that all news without title of text are discarded."
   ],
   "metadata": {}
  },
  {
   "cell_type": "code",
   "source": [
    "data = pd.read_csv('../input/fake-news-classification/WELFake_Dataset.csv', index_col=0)\n",
    "data = data.dropna()\n",
    "y, X = data.loc[:, 'label'], data.loc[:, data.columns != 'label']\n",
    "print(f'Total number of observations: {len(X)}\\n')\n",
    "print(f'Ratio of real and fake news:')\n",
    "y.value_counts(normalize=True).rename({1: 'real', 0: 'fake'})"
   ],
   "metadata": {
    "execution": {
     "iopub.status.busy": "2022-06-21T20:49:34.968034Z",
     "iopub.execute_input": "2022-06-21T20:49:34.968554Z",
     "iopub.status.idle": "2022-06-21T20:49:40.460525Z",
     "shell.execute_reply.started": "2022-06-21T20:49:34.968526Z",
     "shell.execute_reply": "2022-06-21T20:49:40.459749Z"
    },
    "trusted": true
   },
   "execution_count": 4,
   "outputs": [
    {
     "name": "stdout",
     "text": "Total number of observations: 71537\n\nRatio of real and fake news:\n",
     "output_type": "stream"
    },
    {
     "execution_count": 4,
     "output_type": "execute_result",
     "data": {
      "text/plain": "real    0.510351\nfake    0.489649\nName: label, dtype: float64"
     },
     "metadata": {}
    }
   ]
  },
  {
   "cell_type": "markdown",
   "source": [
    "### Data preprocessing"
   ],
   "metadata": {}
  },
  {
   "cell_type": "code",
   "source": [
    "X_clean_title = pd.DataFrame({\"title\": X['title']})"
   ],
   "metadata": {
    "execution": {
     "iopub.status.busy": "2022-06-21T20:30:23.771399Z",
     "iopub.execute_input": "2022-06-21T20:30:23.772010Z",
     "iopub.status.idle": "2022-06-21T20:30:23.779849Z",
     "shell.execute_reply.started": "2022-06-21T20:30:23.771967Z",
     "shell.execute_reply": "2022-06-21T20:30:23.779051Z"
    },
    "trusted": true
   },
   "execution_count": 5,
   "outputs": []
  },
  {
   "cell_type": "markdown",
   "source": [
    "#### Merge title and text"
   ],
   "metadata": {}
  },
  {
   "cell_type": "code",
   "source": [
    "X_clean = pd.DataFrame({\"title_text\": X['title'] + \" \" + X['text']})"
   ],
   "metadata": {
    "execution": {
     "iopub.status.busy": "2022-06-21T18:02:49.044827Z",
     "iopub.execute_input": "2022-06-21T18:02:49.045232Z",
     "iopub.status.idle": "2022-06-21T18:02:49.439057Z",
     "shell.execute_reply.started": "2022-06-21T18:02:49.045198Z",
     "shell.execute_reply": "2022-06-21T18:02:49.438015Z"
    },
    "trusted": true
   },
   "execution_count": null,
   "outputs": []
  },
  {
   "cell_type": "markdown",
   "source": [
    "#### Clean data"
   ],
   "metadata": {}
  },
  {
   "cell_type": "code",
   "source": [
    "stopwords = set(nltk.corpus.stopwords.words('english'))\n",
    "porter_steemer = nltk.stem.PorterStemmer()"
   ],
   "metadata": {
    "execution": {
     "iopub.status.busy": "2022-06-21T20:30:23.781673Z",
     "iopub.execute_input": "2022-06-21T20:30:23.782047Z",
     "iopub.status.idle": "2022-06-21T20:30:23.803750Z",
     "shell.execute_reply.started": "2022-06-21T20:30:23.782013Z",
     "shell.execute_reply": "2022-06-21T20:30:23.802591Z"
    },
    "trusted": true
   },
   "execution_count": 6,
   "outputs": []
  },
  {
   "cell_type": "code",
   "source": [
    "def remove_urls(text):\n",
    "    URL_REGEX = r\"[(http(s)?):\\/\\/(www\\.)?a-zA-Z0-9@:%._\\+~#=]{2,256}\\.[a-z]{2,6}\\b([-a-zA-Z0-9@:%_\\+.~#?&//=]*)\"\n",
    "    return re.sub(URL_REGEX, '', text)\n",
    "\n",
    "def remove_non_alphabetical_characters(text):\n",
    "    return re.sub('[^a-zA-Z]', ' ', text)\n",
    "\n",
    "def remove_stopwords(text):\n",
    "    words = text.split()\n",
    "    return ' '.join([word for word in words if word not in stopwords])\n",
    "    \n",
    "def stem_words(text):\n",
    "    words = text.split()\n",
    "    return ' '.join([porter_steemer.stem(word) for word in words])\n",
    "\n",
    "def transform_text(text):\n",
    "    text = remove_urls(text)\n",
    "    text = remove_non_alphabetical_characters(text)\n",
    "    text = text.lower()\n",
    "    text = remove_stopwords(text)\n",
    "    text = stem_words(text)\n",
    "    \n",
    "    return text"
   ],
   "metadata": {
    "execution": {
     "iopub.status.busy": "2022-06-21T20:30:23.804753Z",
     "iopub.execute_input": "2022-06-21T20:30:23.805068Z",
     "iopub.status.idle": "2022-06-21T20:30:23.812966Z",
     "shell.execute_reply.started": "2022-06-21T20:30:23.805041Z",
     "shell.execute_reply": "2022-06-21T20:30:23.811905Z"
    },
    "trusted": true
   },
   "execution_count": 7,
   "outputs": []
  },
  {
   "cell_type": "code",
   "source": [
    "CLEAN_DATA_PATH = '../input/title-text-fake-news-clean/x_clean.csv'\n",
    "\n",
    "if os.path.isfile(CLEAN_DATA_PATH):\n",
    "    X_clean = pd.read_csv(CLEAN_DATA_PATH, index_col=0)\n",
    "else:\n",
    "    X_clean['title_text'] = X_clean['title_text'].apply(transform_text)"
   ],
   "metadata": {
    "execution": {
     "iopub.status.busy": "2022-06-21T20:49:59.810549Z",
     "iopub.execute_input": "2022-06-21T20:49:59.811137Z",
     "iopub.status.idle": "2022-06-21T20:50:02.657011Z",
     "shell.execute_reply.started": "2022-06-21T20:49:59.811096Z",
     "shell.execute_reply": "2022-06-21T20:50:02.656121Z"
    },
    "trusted": true
   },
   "execution_count": 5,
   "outputs": []
  },
  {
   "cell_type": "code",
   "source": [
    "X_clean_title['title'] = X_clean_title['title'].apply(transform_text)"
   ],
   "metadata": {
    "execution": {
     "iopub.status.busy": "2022-06-21T20:30:23.814348Z",
     "iopub.execute_input": "2022-06-21T20:30:23.814681Z",
     "iopub.status.idle": "2022-06-21T20:30:37.753758Z",
     "shell.execute_reply.started": "2022-06-21T20:30:23.814653Z",
     "shell.execute_reply": "2022-06-21T20:30:37.752497Z"
    },
    "trusted": true
   },
   "execution_count": 8,
   "outputs": []
  },
  {
   "cell_type": "markdown",
   "source": [
    "# LSTM"
   ],
   "metadata": {}
  },
  {
   "cell_type": "code",
   "source": [
    "import torch\n",
    "import torch.nn as nn\n",
    "from torch.nn.utils.rnn import pack_padded_sequence, pad_packed_sequence\n",
    "import torch.optim as optim\n",
    "from sklearn.metrics import accuracy_score, classification_report, confusion_matrix\n",
    "import time\n",
    "from tqdm import tqdm\n",
    "from torch.utils.data import Dataset, DataLoader"
   ],
   "metadata": {
    "execution": {
     "iopub.status.busy": "2022-06-21T20:50:53.907550Z",
     "iopub.execute_input": "2022-06-21T20:50:53.908091Z",
     "iopub.status.idle": "2022-06-21T20:50:53.913479Z",
     "shell.execute_reply.started": "2022-06-21T20:50:53.908055Z",
     "shell.execute_reply": "2022-06-21T20:50:53.912540Z"
    },
    "trusted": true
   },
   "execution_count": 7,
   "outputs": []
  },
  {
   "cell_type": "code",
   "source": [
    "X_clean_title['class'] = y"
   ],
   "metadata": {
    "execution": {
     "iopub.status.busy": "2022-06-21T19:42:15.982480Z",
     "iopub.execute_input": "2022-06-21T19:42:15.982943Z",
     "iopub.status.idle": "2022-06-21T19:42:16.000328Z",
     "shell.execute_reply.started": "2022-06-21T19:42:15.982907Z",
     "shell.execute_reply": "2022-06-21T19:42:15.999434Z"
    },
    "trusted": true
   },
   "execution_count": 13,
   "outputs": []
  },
  {
   "cell_type": "code",
   "source": [
    "X_clean_title = X_clean_title[X_clean_title['title'].str.len() > 0]"
   ],
   "metadata": {
    "execution": {
     "iopub.status.busy": "2022-06-21T19:42:18.296581Z",
     "iopub.execute_input": "2022-06-21T19:42:18.297324Z",
     "iopub.status.idle": "2022-06-21T19:42:18.352516Z",
     "shell.execute_reply.started": "2022-06-21T19:42:18.297287Z",
     "shell.execute_reply": "2022-06-21T19:42:18.351719Z"
    },
    "trusted": true
   },
   "execution_count": 14,
   "outputs": []
  },
  {
   "cell_type": "code",
   "source": [
    "X_train, X_test, y_train, y_test = model_selection.train_test_split(\n",
    "            X_clean_title['title'], X_clean_title['class'], test_size=0.33, random_state=256, stratify=X_clean_title['class'])"
   ],
   "metadata": {
    "execution": {
     "iopub.status.busy": "2022-06-21T19:42:22.712630Z",
     "iopub.execute_input": "2022-06-21T19:42:22.713322Z",
     "iopub.status.idle": "2022-06-21T19:42:22.785671Z",
     "shell.execute_reply.started": "2022-06-21T19:42:22.713281Z",
     "shell.execute_reply": "2022-06-21T19:42:22.784632Z"
    },
    "trusted": true
   },
   "execution_count": 15,
   "outputs": []
  },
  {
   "cell_type": "code",
   "source": [
    "split = []\n",
    "for index, row in X_clean_title.iterrows():\n",
    "    if index in X_train.index:\n",
    "        split.append('train')\n",
    "    else:\n",
    "        split.append('test')\n",
    "X_clean_title['split'] = split"
   ],
   "metadata": {
    "execution": {
     "iopub.status.busy": "2022-06-21T19:42:27.397676Z",
     "iopub.execute_input": "2022-06-21T19:42:27.398319Z",
     "iopub.status.idle": "2022-06-21T19:42:30.287947Z",
     "shell.execute_reply.started": "2022-06-21T19:42:27.398283Z",
     "shell.execute_reply": "2022-06-21T19:42:30.287040Z"
    },
    "trusted": true
   },
   "execution_count": 16,
   "outputs": []
  },
  {
   "cell_type": "code",
   "source": [
    "PADDING_VALUE = 0\n",
    "\n",
    "class NaiveVectorizer:\n",
    "    def __init__(self, tokenized_data, **kwargs):\n",
    "        tokenized_data = [seq.split() for seq in tokenized_data]\n",
    "        self.wv = dict()\n",
    "        iter = PADDING_VALUE + 1\n",
    "        for sequence in tokenized_data:\n",
    "          for word in sequence:\n",
    "            if word not in self.wv:\n",
    "              self.wv[word] = iter\n",
    "              iter += 1\n",
    "\n",
    "    def trim_vectorize(self, tokenized_seq, max_len=600):\n",
    "        return self.vectorize(tokenized_seq[:max_len])\n",
    "        \n",
    "    def vectorize(self, tokenized_seq):\n",
    "        tokens = []\n",
    "        for word in tokenized_seq:\n",
    "          if word in self.wv:\n",
    "            tokens.append(self.wv[word])\n",
    "            \n",
    "        return torch.LongTensor(tokens)"
   ],
   "metadata": {
    "execution": {
     "iopub.status.busy": "2022-06-21T21:28:19.469232Z",
     "iopub.execute_input": "2022-06-21T21:28:19.469577Z",
     "iopub.status.idle": "2022-06-21T21:28:19.477140Z",
     "shell.execute_reply.started": "2022-06-21T21:28:19.469547Z",
     "shell.execute_reply": "2022-06-21T21:28:19.476303Z"
    },
    "trusted": true
   },
   "execution_count": 41,
   "outputs": []
  },
  {
   "cell_type": "code",
   "source": [
    "class DatasetNews(Dataset):\n",
    "    SPLIT_TYPES = [\"train\", \"test\"]\n",
    "\n",
    "    def __init__(self, data, preprocess_fn, split=\"train\"):\n",
    "        super(DatasetNews, self).__init__()\n",
    "        if split not in self.SPLIT_TYPES:\n",
    "            raise AttributeError(f\"No such split type: {split}\")\n",
    "\n",
    "        self.split = split\n",
    "        self.label = [i for i, c in enumerate(data.columns) if c == \"class\"][0]\n",
    "        self.data_col = [i for i, c in enumerate(data.columns) if c == \"title\"][0]\n",
    "        self.data = data[data[\"split\"] == self.split]\n",
    "        self.preprocess_fn = preprocess_fn\n",
    "\n",
    "    def __len__(self):\n",
    "        return len(self.data)\n",
    "\n",
    "    def __getitem__(self, idx):\n",
    "        seq = self.preprocess_fn(self.data.iloc[idx, self.data_col].split())\n",
    "        label = self.data.iloc[idx, self.label]\n",
    "        return (seq, label)\n"
   ],
   "metadata": {
    "execution": {
     "iopub.status.busy": "2022-06-21T20:51:03.810906Z",
     "iopub.execute_input": "2022-06-21T20:51:03.811567Z",
     "iopub.status.idle": "2022-06-21T20:51:03.823468Z",
     "shell.execute_reply.started": "2022-06-21T20:51:03.811522Z",
     "shell.execute_reply": "2022-06-21T20:51:03.822718Z"
    },
    "trusted": true
   },
   "execution_count": 9,
   "outputs": []
  },
  {
   "cell_type": "code",
   "source": [
    "from torch.nn.utils.rnn import pad_sequence\n",
    "naive_vectorizer = NaiveVectorizer(X_clean_title.loc[X_clean_title[\"split\"] == \"train\", \"title\"])\n",
    "\n",
    "def get_datasets():\n",
    "    train_dataset = DatasetNews(data=X_clean_title, preprocess_fn=naive_vectorizer.vectorize)\n",
    "    test_dataset = DatasetNews(data=X_clean_title, preprocess_fn=naive_vectorizer.vectorize, split=\"test\")\n",
    "        \n",
    "    return train_dataset, test_dataset\n",
    "\n",
    "def custom_collate_fn(pairs):\n",
    "    seqcs, lengths, labels = [], [], []\n",
    "    for pair in pairs:\n",
    "        if len(pair[0]) > 0:\n",
    "          labels.append(pair[1])\n",
    "          lengths.append(len(pair[0]))\n",
    "          seqcs.append(pair[0])\n",
    "\n",
    "    seqcs = pad_sequence(seqcs, padding_value=PADDING_VALUE)\n",
    "    lengths = torch.LongTensor(lengths)\n",
    "    labels = torch.Tensor(labels)\n",
    "    return seqcs, lengths, labels"
   ],
   "metadata": {
    "execution": {
     "iopub.status.busy": "2022-06-21T20:55:16.483284Z",
     "iopub.execute_input": "2022-06-21T20:55:16.483743Z",
     "iopub.status.idle": "2022-06-21T20:55:16.499368Z",
     "shell.execute_reply.started": "2022-06-21T20:55:16.483703Z",
     "shell.execute_reply": "2022-06-21T20:55:16.498491Z"
    },
    "trusted": true
   },
   "execution_count": 26,
   "outputs": []
  },
  {
   "cell_type": "code",
   "source": "class LSTMClassifier(nn.Module):\n    def __init__(self, embedding_dim, hidden_dim, vocab_size, classes, batch_size, dropout_prob, num_layers):\n        super(LSTMClassifier, self).__init__()\n        self.hidden_dim = hidden_dim\n        self.batch_size = batch_size\n\n        self.embedding = nn.Embedding(vocab_size, embedding_dim)\n        self.lstm = nn.LSTM(input_size=embedding_dim, hidden_size=hidden_dim, num_layers =num_layers, dropout=dropout_prob)\n        self.linear = nn.Linear(hidden_dim, classes)\n        self.drop = nn.Dropout(dropout_prob)\n\n    def forward(self, sentence, lengths):\n        batch_size = sentence.shape[1]\n        embeddings = self.embedding(sentence)\n        embeddings = self.drop(embeddings)\n        packed_embeddings = pack_padded_sequence(embeddings, lengths.cpu(), enforce_sorted=False)\n        lstm_out, _ = self.lstm(packed_embeddings)\n        output, hidden = pad_packed_sequence(lstm_out)\n        out = output[lengths - 1, range(batch_size) , :]\n        x = self.linear(out)\n        x = x.squeeze()\n        scores = torch.sigmoid(x)\n        return scores",
   "metadata": {
    "execution": {
     "iopub.status.busy": "2022-06-21T20:55:43.094187Z",
     "iopub.execute_input": "2022-06-21T20:55:43.094532Z",
     "iopub.status.idle": "2022-06-21T20:55:43.103851Z",
     "shell.execute_reply.started": "2022-06-21T20:55:43.094502Z",
     "shell.execute_reply": "2022-06-21T20:55:43.102569Z"
    },
    "trusted": true
   },
   "execution_count": 34,
   "outputs": []
  },
  {
   "cell_type": "code",
   "source": "task = Task.create(project_name='mlcloud_fake_news', task_name='lstm_title')\ntask.mark_started()\nlogger = task.get_logger()",
   "metadata": {
    "execution": {
     "iopub.status.busy": "2022-06-21T20:01:28.908289Z",
     "iopub.execute_input": "2022-06-21T20:01:28.909081Z",
     "iopub.status.idle": "2022-06-21T20:01:34.032824Z",
     "shell.execute_reply.started": "2022-06-21T20:01:28.909041Z",
     "shell.execute_reply": "2022-06-21T20:01:34.032036Z"
    },
    "trusted": true
   },
   "execution_count": 47,
   "outputs": []
  },
  {
   "cell_type": "code",
   "source": "config = {\n    'n_epochs': 20,\n    'lr': 1e-3,\n    'batch_size': 128, \n    'optimizer': 'Adam',\n    'hidden_dim': 128, \n    'embedding_dim': 50,\n    'dropout': 0.5, \n    'num_layers': 2\n}\ntask.connect(config)",
   "metadata": {
    "execution": {
     "iopub.status.busy": "2022-06-21T20:01:34.036269Z",
     "iopub.execute_input": "2022-06-21T20:01:34.036738Z",
     "iopub.status.idle": "2022-06-21T20:01:36.102658Z",
     "shell.execute_reply.started": "2022-06-21T20:01:34.036710Z",
     "shell.execute_reply": "2022-06-21T20:01:36.101941Z"
    },
    "trusted": true
   },
   "execution_count": 48,
   "outputs": [
    {
     "execution_count": 48,
     "output_type": "execute_result",
     "data": {
      "text/plain": "{'n_epochs': 20,\n 'lr': 0.001,\n 'batch_size': 128,\n 'optimizer': 'Adam',\n 'hidden_dim': 128,\n 'embedding_dim': 50,\n 'dropout': 0.5,\n 'num_layers': 2}"
     },
     "metadata": {}
    }
   ]
  },
  {
   "cell_type": "code",
   "source": "def train(model, training_data, test_data, optimizer, device, loss_fn):\n\n    for epoch in range(config['n_epochs']):\n\n        print('[ Epoch', epoch, ']')\n        \n        start = time.time()\n        train_loss, train_acc, train_f1, train_fpr = train_epoch(model, training_data, optimizer, device, loss_fn)\n        print('  - (Training)   loss: {loss: 8.5f}, accuracy: {acc:3.3f} %, f1: {f1:3.3f}%, fpr: {fpr:3.3f}%, time: {time:3.3f} min'.format(\n            loss = train_loss, acc=100*train_acc, f1=100*train_f1, fpr=100*train_fpr,\n            time=(time.time()-start)/60))\n        \n        start = time.time()\n        test_loss, test_acc, test_f1, test_fpr = eval_epoch(model, test_data, device, loss_fn)\n        print('  - (Test)       loss: {loss: 8.5f}, accuracy: {acc:3.3f} %, f1: {f1:3.3f}%, fpr: {fpr:3.3f}%, time: {time:3.3f} min'.format(\n            loss = test_loss, acc=100*test_acc, f1=100*test_f1, fpr=100*test_fpr,\n            time=(time.time()-start)/60))\n\n        logger.report_scalar(title='Loss', series='Train', iteration=epoch, value=train_loss)\n        logger.report_scalar(title='Accuracy', series='Train', iteration=epoch, value=train_acc)\n        logger.report_scalar(title='Loss', series='Test', iteration=epoch, value=test_loss)\n        logger.report_scalar(title='Accuracy', series='Test', iteration=epoch, value=test_acc)\n        logger.report_scalar(title='F1', series='Test', iteration=epoch, value=test_f1)\n        logger.report_scalar(title='FPR', series='Test', iteration=epoch, value=test_fpr)\n        logger.report_scalar(title='F1', series='Train', iteration=epoch, value=train_f1)\n        logger.report_scalar(title='FPR', series='Train', iteration=epoch, value=train_fpr)",
   "metadata": {
    "execution": {
     "iopub.status.busy": "2022-06-21T20:51:29.388134Z",
     "iopub.execute_input": "2022-06-21T20:51:29.388570Z",
     "iopub.status.idle": "2022-06-21T20:51:29.403065Z",
     "shell.execute_reply.started": "2022-06-21T20:51:29.388532Z",
     "shell.execute_reply": "2022-06-21T20:51:29.402136Z"
    },
    "trusted": true
   },
   "execution_count": 10,
   "outputs": []
  },
  {
   "cell_type": "code",
   "source": "def train_epoch(model, training_data, optimizer, device, loss_fn):\n    \n        model.train()\n\n        total_loss = 0\n        n_examples_total, n_examples_correct = 0, 0\n\n        for batch in tqdm(training_data, mininterval=2,desc='  - (Training)   ', leave=False):\n\n            seqcs, lengths, labels = batch[0].to(device), batch[1], batch[2].to(device)\n            # forward\n            optimizer.zero_grad()\n            pred = model(seqcs, lengths)\n\n            # backward\n            loss, n_correct = eval_performance(pred, labels, loss_fn)\n            loss.backward()\n            # Calculating False Positive Rate\n            cf_matrix = confusion_matrix(labels.detach().cpu().numpy(), torch.round(pred).detach().cpu().numpy())\n            tn, fp, fn, tp = cf_matrix.ravel()\n            fpr = fp / (fp + tn)\n\n            # Calculating F1-score\n            f1 = f1_score(labels.detach().cpu().numpy(), torch.round(pred).detach().cpu().numpy())\n\n            # update parameters\n            optimizer.step()\n\n            total_loss += loss.item()\n\n            n_examples_total += batch[2].size()[0]\n            n_examples_correct += n_correct\n            # print(f'Loss: {loss.item()}, acc: {n_correct/batch[2].size()[0]}')\n\n        accuracy = n_examples_correct/n_examples_total\n\n        return total_loss, accuracy, f1, fpr",
   "metadata": {
    "execution": {
     "iopub.status.busy": "2022-06-21T20:51:30.244207Z",
     "iopub.execute_input": "2022-06-21T20:51:30.244575Z",
     "iopub.status.idle": "2022-06-21T20:51:30.256029Z",
     "shell.execute_reply.started": "2022-06-21T20:51:30.244541Z",
     "shell.execute_reply": "2022-06-21T20:51:30.254692Z"
    },
    "trusted": true
   },
   "execution_count": 11,
   "outputs": []
  },
  {
   "cell_type": "code",
   "source": "def eval_epoch(model, test_data, device, loss_fn):\n\n    model.eval()\n\n    total_loss = 0\n    n_examples_total, n_examples_correct = 0, 0\n\n    with torch.no_grad():\n        for batch in tqdm(test_data, mininterval=2, desc='  - (Test) ', leave=False):\n\n            seqcs, lengths, labels = batch[0].to(device), batch[1], batch[2].to(device)\n            \n            # forward\n            pred = model(seqcs, lengths)\n            loss, n_correct = eval_performance(pred, labels, loss_fn)\n            # Calculating False Positive Rate\n            cf_matrix = confusion_matrix(labels.detach().cpu().numpy(), torch.round(pred).detach().cpu().numpy())\n            tn, fp, fn, tp = cf_matrix.ravel()\n            fpr = fp / (fp + tn)\n\n            # Calculating F1-score\n            f1 = f1_score(labels.detach().cpu().numpy(), torch.round(pred).detach().cpu().numpy())\n\n            total_loss += loss.item()\n            \n            n_examples_total += batch[2].size()[0]\n            n_examples_correct += n_correct\n\n    accuracy = n_examples_correct/n_examples_total\n\n    return total_loss, accuracy, f1, fpr\n\n\ndef eval_performance(prediction, ground_truth, loss_fn):\n    \n    loss = loss_fn(prediction, ground_truth)\n\n    n_correct = (torch.round(prediction) == ground_truth.to(torch.int32)).sum().item()\n\n    return loss, n_correct",
   "metadata": {
    "execution": {
     "iopub.status.busy": "2022-06-21T20:51:31.356125Z",
     "iopub.execute_input": "2022-06-21T20:51:31.357008Z",
     "iopub.status.idle": "2022-06-21T20:51:31.367592Z",
     "shell.execute_reply.started": "2022-06-21T20:51:31.356963Z",
     "shell.execute_reply": "2022-06-21T20:51:31.366646Z"
    },
    "trusted": true
   },
   "execution_count": 12,
   "outputs": []
  },
  {
   "cell_type": "code",
   "source": "training_data, test_data = get_datasets()\ntrain_dataloader = DataLoader(training_data, batch_size=config['batch_size'], shuffle=True, collate_fn=custom_collate_fn)\ntest_dataloader = DataLoader(test_data, batch_size=config['batch_size'], shuffle=True, collate_fn=custom_collate_fn)",
   "metadata": {
    "execution": {
     "iopub.status.busy": "2022-06-21T20:01:36.147840Z",
     "iopub.execute_input": "2022-06-21T20:01:36.148134Z",
     "iopub.status.idle": "2022-06-21T20:01:36.181279Z",
     "shell.execute_reply.started": "2022-06-21T20:01:36.148103Z",
     "shell.execute_reply": "2022-06-21T20:01:36.180591Z"
    },
    "trusted": true
   },
   "execution_count": 52,
   "outputs": []
  },
  {
   "cell_type": "code",
   "source": "DEVICE = torch.device('cuda' if torch.cuda.is_available() else 'cpu')\nmodel = LSTMClassifier(embedding_dim=config['embedding_dim'], hidden_dim=config['hidden_dim'], vocab_size=len(naive_vectorizer.wv)+1, classes=1, batch_size=config['batch_size'], dropout_prob=config['dropout'], num_layers=config['num_layers']).to(DEVICE)\noptimizer = optim.Adam(model.parameters(), lr=config['lr'])\nloss = nn.BCELoss()\ntrain(model=model, training_data=train_dataloader, test_data=test_dataloader, optimizer=optimizer, device=DEVICE, loss_fn=loss)",
   "metadata": {
    "execution": {
     "iopub.status.busy": "2022-06-21T20:01:36.195345Z",
     "iopub.execute_input": "2022-06-21T20:01:36.195593Z",
     "iopub.status.idle": "2022-06-21T20:05:04.790276Z",
     "shell.execute_reply.started": "2022-06-21T20:01:36.195571Z",
     "shell.execute_reply": "2022-06-21T20:05:04.789426Z"
    },
    "trusted": true
   },
   "execution_count": 53,
   "outputs": [
    {
     "name": "stdout",
     "text": "[ Epoch 0 ]\n",
     "output_type": "stream"
    },
    {
     "name": "stderr",
     "text": "                                                                    \r",
     "output_type": "stream"
    },
    {
     "name": "stdout",
     "text": "  - (Training)   loss:  176.61138, accuracy: 74.333 %, f1: 79.365%, fpr: 13.889%, time: 0.128 min\n",
     "output_type": "stream"
    },
    {
     "name": "stderr",
     "text": "                                                              \r",
     "output_type": "stream"
    },
    {
     "name": "stdout",
     "text": "  - (Test)       loss:  62.98480, accuracy: 84.169 %, f1: 83.186%, fpr: 7.576%, time: 0.043 min\n[ Epoch 1 ]\n",
     "output_type": "stream"
    },
    {
     "name": "stderr",
     "text": "                                                                    \r",
     "output_type": "stream"
    },
    {
     "name": "stdout",
     "text": "  - (Training)   loss:  136.54202, accuracy: 82.670 %, f1: 83.333%, fpr: 18.182%, time: 0.128 min\n",
     "output_type": "stream"
    },
    {
     "name": "stderr",
     "text": "                                                              \r",
     "output_type": "stream"
    },
    {
     "name": "stdout",
     "text": "  - (Test)       loss:  55.86657, accuracy: 86.895 %, f1: 86.179%, fpr: 13.636%, time: 0.043 min\n[ Epoch 2 ]\n",
     "output_type": "stream"
    },
    {
     "name": "stderr",
     "text": "                                                                    \r",
     "output_type": "stream"
    },
    {
     "name": "stdout",
     "text": "  - (Training)   loss:  121.32689, accuracy: 85.305 %, f1: 88.571%, fpr: 11.765%, time: 0.135 min\n",
     "output_type": "stream"
    },
    {
     "name": "stderr",
     "text": "                                                              \r",
     "output_type": "stream"
    },
    {
     "name": "stdout",
     "text": "  - (Test)       loss:  52.74808, accuracy: 87.613 %, f1: 89.552%, fpr: 11.667%, time: 0.043 min\n[ Epoch 3 ]\n",
     "output_type": "stream"
    },
    {
     "name": "stderr",
     "text": "                                                                    \r",
     "output_type": "stream"
    },
    {
     "name": "stdout",
     "text": "  - (Training)   loss:  113.03671, accuracy: 86.715 %, f1: 90.411%, fpr: 12.121%, time: 0.127 min\n",
     "output_type": "stream"
    },
    {
     "name": "stderr",
     "text": "                                                              \r",
     "output_type": "stream"
    },
    {
     "name": "stdout",
     "text": "  - (Test)       loss:  50.72792, accuracy: 88.224 %, f1: 87.603%, fpr: 15.714%, time: 0.043 min\n[ Epoch 4 ]\n",
     "output_type": "stream"
    },
    {
     "name": "stderr",
     "text": "                                                                    \r",
     "output_type": "stream"
    },
    {
     "name": "stdout",
     "text": "  - (Training)   loss:  106.30176, accuracy: 87.650 %, f1: 89.655%, fpr: 7.500%, time: 0.127 min\n",
     "output_type": "stream"
    },
    {
     "name": "stderr",
     "text": "                                                              \r",
     "output_type": "stream"
    },
    {
     "name": "stdout",
     "text": "  - (Test)       loss:  48.09692, accuracy: 88.810 %, f1: 81.890%, fpr: 16.129%, time: 0.043 min\n[ Epoch 5 ]\n",
     "output_type": "stream"
    },
    {
     "name": "stderr",
     "text": "                                                                    \r",
     "output_type": "stream"
    },
    {
     "name": "stdout",
     "text": "  - (Training)   loss:  101.26584, accuracy: 88.185 %, f1: 90.411%, fpr: 14.706%, time: 0.126 min\n",
     "output_type": "stream"
    },
    {
     "name": "stderr",
     "text": "                                                              \r",
     "output_type": "stream"
    },
    {
     "name": "stdout",
     "text": "  - (Test)       loss:  46.78207, accuracy: 89.073 %, f1: 88.136%, fpr: 4.688%, time: 0.053 min\n[ Epoch 6 ]\n",
     "output_type": "stream"
    },
    {
     "name": "stderr",
     "text": "                                                                    \r",
     "output_type": "stream"
    },
    {
     "name": "stdout",
     "text": "  - (Training)   loss:  97.09115, accuracy: 88.932 %, f1: 83.784%, fpr: 18.750%, time: 0.132 min\n",
     "output_type": "stream"
    },
    {
     "name": "stderr",
     "text": "                                                              \r",
     "output_type": "stream"
    },
    {
     "name": "stdout",
     "text": "  - (Test)       loss:  45.17035, accuracy: 89.587 %, f1: 93.431%, fpr: 6.897%, time: 0.044 min\n[ Epoch 7 ]\n",
     "output_type": "stream"
    },
    {
     "name": "stderr",
     "text": "                                                                    \r",
     "output_type": "stream"
    },
    {
     "name": "stdout",
     "text": "  - (Training)   loss:  93.65282, accuracy: 89.361 %, f1: 89.189%, fpr: 15.152%, time: 0.128 min\n",
     "output_type": "stream"
    },
    {
     "name": "stderr",
     "text": "                                                              \r",
     "output_type": "stream"
    },
    {
     "name": "stdout",
     "text": "  - (Test)       loss:  45.09700, accuracy: 89.710 %, f1: 90.370%, fpr: 13.115%, time: 0.044 min\n[ Epoch 8 ]\n",
     "output_type": "stream"
    },
    {
     "name": "stderr",
     "text": "                                                                    \r",
     "output_type": "stream"
    },
    {
     "name": "stdout",
     "text": "  - (Training)   loss:  90.11037, accuracy: 89.909 %, f1: 82.667%, fpr: 26.471%, time: 0.128 min\n",
     "output_type": "stream"
    },
    {
     "name": "stderr",
     "text": "                                                              \r",
     "output_type": "stream"
    },
    {
     "name": "stdout",
     "text": "  - (Test)       loss:  43.98312, accuracy: 90.186 %, f1: 91.803%, fpr: 7.576%, time: 0.050 min\n[ Epoch 9 ]\n",
     "output_type": "stream"
    },
    {
     "name": "stderr",
     "text": "                                                                    \r",
     "output_type": "stream"
    },
    {
     "name": "stdout",
     "text": "  - (Training)   loss:  86.47769, accuracy: 90.352 %, f1: 93.827%, fpr: 10.345%, time: 0.130 min\n",
     "output_type": "stream"
    },
    {
     "name": "stderr",
     "text": "                                                              \r",
     "output_type": "stream"
    },
    {
     "name": "stdout",
     "text": "  - (Test)       loss:  43.01785, accuracy: 90.318 %, f1: 89.933%, fpr: 18.182%, time: 0.044 min\n[ Epoch 10 ]\n",
     "output_type": "stream"
    },
    {
     "name": "stderr",
     "text": "                                                                    \r",
     "output_type": "stream"
    },
    {
     "name": "stdout",
     "text": "  - (Training)   loss:  84.78364, accuracy: 90.415 %, f1: 87.879%, fpr: 3.030%, time: 0.128 min\n",
     "output_type": "stream"
    },
    {
     "name": "stderr",
     "text": "                                                              \r",
     "output_type": "stream"
    },
    {
     "name": "stdout",
     "text": "  - (Test)       loss:  42.59404, accuracy: 90.555 %, f1: 93.706%, fpr: 7.273%, time: 0.043 min\n[ Epoch 11 ]\n",
     "output_type": "stream"
    },
    {
     "name": "stderr",
     "text": "                                                                    \r",
     "output_type": "stream"
    },
    {
     "name": "stdout",
     "text": "  - (Training)   loss:  82.00130, accuracy: 90.894 %, f1: 91.176%, fpr: 13.514%, time: 0.123 min\n",
     "output_type": "stream"
    },
    {
     "name": "stderr",
     "text": "                                                              \r",
     "output_type": "stream"
    },
    {
     "name": "stdout",
     "text": "  - (Test)       loss:  42.08739, accuracy: 90.534 %, f1: 89.922%, fpr: 11.111%, time: 0.047 min\n[ Epoch 12 ]\n",
     "output_type": "stream"
    },
    {
     "name": "stderr",
     "text": "                                                                    \r",
     "output_type": "stream"
    },
    {
     "name": "stdout",
     "text": "  - (Training)   loss:  78.67036, accuracy: 91.419 %, f1: 92.857%, fpr: 11.111%, time: 0.132 min\n",
     "output_type": "stream"
    },
    {
     "name": "stderr",
     "text": "                                                              \r",
     "output_type": "stream"
    },
    {
     "name": "stdout",
     "text": "  - (Test)       loss:  43.81419, accuracy: 90.789 %, f1: 92.063%, fpr: 7.812%, time: 0.050 min\n[ Epoch 13 ]\n",
     "output_type": "stream"
    },
    {
     "name": "stderr",
     "text": "                                                                    \r",
     "output_type": "stream"
    },
    {
     "name": "stdout",
     "text": "  - (Training)   loss:  77.03905, accuracy: 91.475 %, f1: 94.444%, fpr: 8.824%, time: 0.125 min\n",
     "output_type": "stream"
    },
    {
     "name": "stderr",
     "text": "                                                              \r",
     "output_type": "stream"
    },
    {
     "name": "stdout",
     "text": "  - (Test)       loss:  41.13796, accuracy: 90.891 %, f1: 90.780%, fpr: 10.909%, time: 0.047 min\n[ Epoch 14 ]\n",
     "output_type": "stream"
    },
    {
     "name": "stderr",
     "text": "                                                                    \r",
     "output_type": "stream"
    },
    {
     "name": "stdout",
     "text": "  - (Training)   loss:  74.26211, accuracy: 91.783 %, f1: 90.667%, fpr: 9.677%, time: 0.124 min\n",
     "output_type": "stream"
    },
    {
     "name": "stderr",
     "text": "                                                              \r",
     "output_type": "stream"
    },
    {
     "name": "stdout",
     "text": "  - (Test)       loss:  42.25829, accuracy: 90.891 %, f1: 86.822%, fpr: 19.403%, time: 0.047 min\n[ Epoch 15 ]\n",
     "output_type": "stream"
    },
    {
     "name": "stderr",
     "text": "                                                                    \r",
     "output_type": "stream"
    },
    {
     "name": "stdout",
     "text": "  - (Training)   loss:  72.57838, accuracy: 91.977 %, f1: 92.105%, fpr: 9.677%, time: 0.130 min\n",
     "output_type": "stream"
    },
    {
     "name": "stderr",
     "text": "                                                              \r",
     "output_type": "stream"
    },
    {
     "name": "stdout",
     "text": "  - (Test)       loss:  42.68607, accuracy: 90.955 %, f1: 90.476%, fpr: 13.433%, time: 0.048 min\n[ Epoch 16 ]\n",
     "output_type": "stream"
    },
    {
     "name": "stderr",
     "text": "                                                                    \r",
     "output_type": "stream"
    },
    {
     "name": "stdout",
     "text": "  - (Training)   loss:  71.03976, accuracy: 92.107 %, f1: 92.537%, fpr: 5.714%, time: 0.123 min\n",
     "output_type": "stream"
    },
    {
     "name": "stderr",
     "text": "                                                              \r",
     "output_type": "stream"
    },
    {
     "name": "stdout",
     "text": "  - (Test)       loss:  41.02523, accuracy: 91.027 %, f1: 92.063%, fpr: 6.349%, time: 0.043 min\n[ Epoch 17 ]\n",
     "output_type": "stream"
    },
    {
     "name": "stderr",
     "text": "                                                                    \r",
     "output_type": "stream"
    },
    {
     "name": "stdout",
     "text": "  - (Training)   loss:  69.64403, accuracy: 92.441 %, f1: 89.286%, fpr: 5.000%, time: 0.126 min\n",
     "output_type": "stream"
    },
    {
     "name": "stderr",
     "text": "                                                              \r",
     "output_type": "stream"
    },
    {
     "name": "stdout",
     "text": "  - (Test)       loss:  43.33023, accuracy: 91.163 %, f1: 84.298%, fpr: 16.176%, time: 0.043 min\n[ Epoch 18 ]\n",
     "output_type": "stream"
    },
    {
     "name": "stderr",
     "text": "                                                                    \r",
     "output_type": "stream"
    },
    {
     "name": "stdout",
     "text": "  - (Training)   loss:  68.11218, accuracy: 92.506 %, f1: 82.353%, fpr: 21.622%, time: 0.137 min\n",
     "output_type": "stream"
    },
    {
     "name": "stderr",
     "text": "                                                              \r",
     "output_type": "stream"
    },
    {
     "name": "stdout",
     "text": "  - (Test)       loss:  41.89617, accuracy: 91.248 %, f1: 89.655%, fpr: 18.966%, time: 0.043 min\n[ Epoch 19 ]\n",
     "output_type": "stream"
    },
    {
     "name": "stderr",
     "text": "                                                                    \r",
     "output_type": "stream"
    },
    {
     "name": "stdout",
     "text": "  - (Training)   loss:  67.40027, accuracy: 92.707 %, f1: 92.308%, fpr: 2.857%, time: 0.132 min\n",
     "output_type": "stream"
    },
    {
     "name": "stderr",
     "text": "                                                              ",
     "output_type": "stream"
    },
    {
     "name": "stdout",
     "text": "  - (Test)       loss:  43.11784, accuracy: 91.248 %, f1: 88.550%, fpr: 12.903%, time: 0.044 min\n",
     "output_type": "stream"
    },
    {
     "name": "stderr",
     "text": "\r",
     "output_type": "stream"
    }
   ]
  },
  {
   "cell_type": "code",
   "source": "torch.save(model, 'lstm_title.pt')",
   "metadata": {
    "execution": {
     "iopub.status.busy": "2022-06-21T20:06:34.323933Z",
     "iopub.execute_input": "2022-06-21T20:06:34.324786Z",
     "iopub.status.idle": "2022-06-21T20:06:34.339944Z",
     "shell.execute_reply.started": "2022-06-21T20:06:34.324735Z",
     "shell.execute_reply": "2022-06-21T20:06:34.339108Z"
    },
    "trusted": true
   },
   "execution_count": 55,
   "outputs": []
  },
  {
   "cell_type": "code",
   "source": "output_model = OutputModel(task=task)\noutput_model.update_weights(weights_filename='./lstm_title.pt')",
   "metadata": {
    "execution": {
     "iopub.status.busy": "2022-06-21T20:07:18.077951Z",
     "iopub.execute_input": "2022-06-21T20:07:18.078538Z",
     "iopub.status.idle": "2022-06-21T20:07:28.124339Z",
     "shell.execute_reply.started": "2022-06-21T20:07:18.078503Z",
     "shell.execute_reply": "2022-06-21T20:07:28.123550Z"
    },
    "trusted": true
   },
   "execution_count": 56,
   "outputs": [
    {
     "name": "stdout",
     "text": "2022-06-21 20:07:26,082 - clearml.model - INFO - No output storage destination defined, registering local model ./lstm_title.pt\n",
     "output_type": "stream"
    }
   ]
  },
  {
   "cell_type": "code",
   "source": "task.mark_completed()\ntask.close()",
   "metadata": {
    "execution": {
     "iopub.status.busy": "2022-06-21T20:10:40.225291Z",
     "iopub.execute_input": "2022-06-21T20:10:40.225862Z",
     "iopub.status.idle": "2022-06-21T20:10:41.253287Z",
     "shell.execute_reply.started": "2022-06-21T20:10:40.225826Z",
     "shell.execute_reply": "2022-06-21T20:10:41.252568Z"
    },
    "trusted": true
   },
   "execution_count": 58,
   "outputs": []
  },
  {
   "cell_type": "code",
   "source": "X_train, X_test, y_train, y_test = model_selection.train_test_split(\n            X_clean['title_text'], X_clean['class'], test_size=0.33, random_state=256, stratify=X_clean['class'])",
   "metadata": {
    "execution": {
     "iopub.status.busy": "2022-06-21T20:53:21.508662Z",
     "iopub.execute_input": "2022-06-21T20:53:21.509276Z",
     "iopub.status.idle": "2022-06-21T20:53:21.552076Z",
     "shell.execute_reply.started": "2022-06-21T20:53:21.509243Z",
     "shell.execute_reply": "2022-06-21T20:53:21.551348Z"
    },
    "trusted": true
   },
   "execution_count": 16,
   "outputs": []
  },
  {
   "cell_type": "code",
   "source": "X_clean['class'] = y\nX_clean = X_clean[X_clean['title_text'].str.len() > 0]\nsplit = []\nfor index, row in X_clean.iterrows():\n    if index in X_train.index:\n        split.append('train')\n    else:\n        split.append('test')\nX_clean['split'] = split",
   "metadata": {
    "execution": {
     "iopub.status.busy": "2022-06-21T20:53:25.689933Z",
     "iopub.execute_input": "2022-06-21T20:53:25.690561Z",
     "iopub.status.idle": "2022-06-21T20:53:28.613884Z",
     "shell.execute_reply.started": "2022-06-21T20:53:25.690522Z",
     "shell.execute_reply": "2022-06-21T20:53:28.613059Z"
    },
    "trusted": true
   },
   "execution_count": 17,
   "outputs": []
  },
  {
   "cell_type": "code",
   "source": "class DatasetNews(Dataset):\n    SPLIT_TYPES = [\"train\", \"test\"]\n\n    def __init__(self, data, preprocess_fn, split=\"train\"):\n        super(DatasetNews, self).__init__()\n        if split not in self.SPLIT_TYPES:\n            raise AttributeError(f\"No such split type: {split}\")\n\n        self.split = split\n        self.label = [i for i, c in enumerate(data.columns) if c == \"class\"][0]\n        self.data_col = [i for i, c in enumerate(data.columns) if c == \"title_text\"][0]\n        self.data = data[data[\"split\"] == self.split]\n        self.preprocess_fn = preprocess_fn\n\n    def __len__(self):\n        return len(self.data)\n\n    def __getitem__(self, idx):\n        seq = self.preprocess_fn(self.data.iloc[idx, self.data_col].split())\n        label = self.data.iloc[idx, self.label]\n        return (seq, label)\n",
   "metadata": {
    "execution": {
     "iopub.status.busy": "2022-06-21T21:28:29.692975Z",
     "iopub.execute_input": "2022-06-21T21:28:29.693317Z",
     "iopub.status.idle": "2022-06-21T21:28:29.702407Z",
     "shell.execute_reply.started": "2022-06-21T21:28:29.693284Z",
     "shell.execute_reply": "2022-06-21T21:28:29.701373Z"
    },
    "trusted": true
   },
   "execution_count": 42,
   "outputs": []
  },
  {
   "cell_type": "code",
   "source": "naive_vectorizer = NaiveVectorizer(X_clean.loc[X_clean[\"split\"] == \"train\", \"title_text\"])\n\ndef get_datasets():\n    train_dataset = DatasetNews(data=X_clean, preprocess_fn=naive_vectorizer.trim_vectorize)\n    test_dataset = DatasetNews(data=X_clean, preprocess_fn=naive_vectorizer.trim_vectorize, split=\"test\")\n        \n    return train_dataset, test_dataset",
   "metadata": {
    "execution": {
     "iopub.status.busy": "2022-06-21T21:28:30.073260Z",
     "iopub.execute_input": "2022-06-21T21:28:30.074021Z",
     "iopub.status.idle": "2022-06-21T21:28:33.503795Z",
     "shell.execute_reply.started": "2022-06-21T21:28:30.073984Z",
     "shell.execute_reply": "2022-06-21T21:28:33.502838Z"
    },
    "trusted": true
   },
   "execution_count": 43,
   "outputs": []
  },
  {
   "cell_type": "code",
   "source": "config = {\n    'n_epochs': 20,\n    'lr': 1e-3,\n    'batch_size': 128, \n    'optimizer': 'Adam',\n    'hidden_dim': 128, \n    'embedding_dim': 50,\n    'dropout': 0.5, \n    'num_layers': 2\n}",
   "metadata": {
    "execution": {
     "iopub.status.busy": "2022-06-21T21:28:33.505598Z",
     "iopub.execute_input": "2022-06-21T21:28:33.505968Z",
     "iopub.status.idle": "2022-06-21T21:28:33.510979Z",
     "shell.execute_reply.started": "2022-06-21T21:28:33.505934Z",
     "shell.execute_reply": "2022-06-21T21:28:33.510270Z"
    },
    "trusted": true
   },
   "execution_count": 44,
   "outputs": []
  },
  {
   "cell_type": "code",
   "source": "training_data, test_data = get_datasets()\ntrain_dataloader = DataLoader(training_data, batch_size=config['batch_size'], shuffle=True, collate_fn=custom_collate_fn)\ntest_dataloader = DataLoader(test_data, batch_size=config['batch_size'], shuffle=True, collate_fn=custom_collate_fn)",
   "metadata": {
    "execution": {
     "iopub.status.busy": "2022-06-21T21:28:33.512275Z",
     "iopub.execute_input": "2022-06-21T21:28:33.512843Z",
     "iopub.status.idle": "2022-06-21T21:28:33.582246Z",
     "shell.execute_reply.started": "2022-06-21T21:28:33.512809Z",
     "shell.execute_reply": "2022-06-21T21:28:33.581548Z"
    },
    "trusted": true
   },
   "execution_count": 45,
   "outputs": []
  },
  {
   "cell_type": "code",
   "source": "len(naive_vectorizer.wv)",
   "metadata": {
    "execution": {
     "iopub.status.busy": "2022-06-21T21:28:34.502470Z",
     "iopub.execute_input": "2022-06-21T21:28:34.503185Z",
     "iopub.status.idle": "2022-06-21T21:28:34.511385Z",
     "shell.execute_reply.started": "2022-06-21T21:28:34.503146Z",
     "shell.execute_reply": "2022-06-21T21:28:34.510511Z"
    },
    "trusted": true
   },
   "execution_count": 46,
   "outputs": [
    {
     "execution_count": 46,
     "output_type": "execute_result",
     "data": {
      "text/plain": "123812"
     },
     "metadata": {}
    }
   ]
  },
  {
   "cell_type": "code",
   "source": "task = Task.create(project_name='mlcloud_fake_news', task_name='lstm_title_text')\ntask.mark_started()\nlogger = task.get_logger()\ntask.connect(config)",
   "metadata": {
    "execution": {
     "iopub.status.busy": "2022-06-21T21:28:35.541595Z",
     "iopub.execute_input": "2022-06-21T21:28:35.542457Z",
     "iopub.status.idle": "2022-06-21T21:28:38.093289Z",
     "shell.execute_reply.started": "2022-06-21T21:28:35.542418Z",
     "shell.execute_reply": "2022-06-21T21:28:38.092477Z"
    },
    "trusted": true
   },
   "execution_count": 47,
   "outputs": [
    {
     "execution_count": 47,
     "output_type": "execute_result",
     "data": {
      "text/plain": "{'n_epochs': 20,\n 'lr': 0.001,\n 'batch_size': 128,\n 'optimizer': 'Adam',\n 'hidden_dim': 128,\n 'embedding_dim': 50,\n 'dropout': 0.5,\n 'num_layers': 2}"
     },
     "metadata": {}
    }
   ]
  },
  {
   "cell_type": "code",
   "source": "DEVICE = torch.device('cuda' if torch.cuda.is_available() else 'cpu')\nmodel = LSTMClassifier(embedding_dim=config['embedding_dim'],hidden_dim=config['hidden_dim'], vocab_size=len(naive_vectorizer.wv)+1, classes=1, batch_size=config['batch_size'], dropout_prob=config['dropout'], num_layers=config['num_layers']).to(DEVICE)\noptimizer = optim.Adam(model.parameters(), lr=config['lr']) \nloss = nn.BCELoss()\ntrain(model=model, training_data=train_dataloader, test_data=test_dataloader, optimizer=optimizer, device=DEVICE, loss_fn=loss)",
   "metadata": {
    "execution": {
     "iopub.status.busy": "2022-06-21T21:28:38.094873Z",
     "iopub.execute_input": "2022-06-21T21:28:38.095242Z",
     "iopub.status.idle": "2022-06-21T21:51:19.622296Z",
     "shell.execute_reply.started": "2022-06-21T21:28:38.095207Z",
     "shell.execute_reply": "2022-06-21T21:51:19.621441Z"
    },
    "trusted": true
   },
   "execution_count": 48,
   "outputs": [
    {
     "name": "stdout",
     "text": "[ Epoch 0 ]\n",
     "output_type": "stream"
    },
    {
     "name": "stderr",
     "text": "                                                                    \r",
     "output_type": "stream"
    },
    {
     "name": "stdout",
     "text": "  - (Training)   loss:  194.18669, accuracy: 72.108 %, f1: 80.000%, fpr: 8.333%, time: 0.949 min\n",
     "output_type": "stream"
    },
    {
     "name": "stderr",
     "text": "                                                              \r",
     "output_type": "stream"
    },
    {
     "name": "stdout",
     "text": "  - (Test)       loss:  77.41392, accuracy: 80.126 %, f1: 73.684%, fpr: 7.143%, time: 0.164 min\n[ Epoch 1 ]\n",
     "output_type": "stream"
    },
    {
     "name": "stderr",
     "text": "                                                                    \r",
     "output_type": "stream"
    },
    {
     "name": "stdout",
     "text": "  - (Training)   loss:  140.88395, accuracy: 82.855 %, f1: 91.667%, fpr: 12.500%, time: 0.953 min\n",
     "output_type": "stream"
    },
    {
     "name": "stderr",
     "text": "                                                              \r",
     "output_type": "stream"
    },
    {
     "name": "stdout",
     "text": "  - (Test)       loss:  72.63732, accuracy: 84.327 %, f1: 57.143%, fpr: 5.556%, time: 0.167 min\n[ Epoch 2 ]\n",
     "output_type": "stream"
    },
    {
     "name": "stderr",
     "text": "                                                                    \r",
     "output_type": "stream"
    },
    {
     "name": "stdout",
     "text": "  - (Training)   loss:  127.85306, accuracy: 85.137 %, f1: 73.684%, fpr: 27.273%, time: 0.955 min\n",
     "output_type": "stream"
    },
    {
     "name": "stderr",
     "text": "                                                              \r",
     "output_type": "stream"
    },
    {
     "name": "stdout",
     "text": "  - (Test)       loss:  119.96224, accuracy: 83.433 %, f1: 71.795%, fpr: 42.857%, time: 0.161 min\n[ Epoch 3 ]\n",
     "output_type": "stream"
    },
    {
     "name": "stderr",
     "text": "                                                                    \r",
     "output_type": "stream"
    },
    {
     "name": "stdout",
     "text": "  - (Training)   loss:  128.10158, accuracy: 85.202 %, f1: 76.923%, fpr: 7.692%, time: 0.955 min\n",
     "output_type": "stream"
    },
    {
     "name": "stderr",
     "text": "                                                              \r",
     "output_type": "stream"
    },
    {
     "name": "stdout",
     "text": "  - (Test)       loss:  44.49917, accuracy: 90.852 %, f1: 93.333%, fpr: 8.696%, time: 0.166 min\n[ Epoch 4 ]\n",
     "output_type": "stream"
    },
    {
     "name": "stderr",
     "text": "                                                                    \r",
     "output_type": "stream"
    },
    {
     "name": "stdout",
     "text": "  - (Training)   loss:  99.14051, accuracy: 89.209 %, f1: 90.909%, fpr: 11.111%, time: 0.950 min\n",
     "output_type": "stream"
    },
    {
     "name": "stderr",
     "text": "                                                              \r",
     "output_type": "stream"
    },
    {
     "name": "stdout",
     "text": "  - (Test)       loss:  54.23066, accuracy: 89.177 %, f1: 78.788%, fpr: 0.000%, time: 0.163 min\n[ Epoch 5 ]\n",
     "output_type": "stream"
    },
    {
     "name": "stderr",
     "text": "                                                                    \r",
     "output_type": "stream"
    },
    {
     "name": "stdout",
     "text": "  - (Training)   loss:  77.82338, accuracy: 91.650 %, f1: 94.737%, fpr: 0.000%, time: 0.959 min\n",
     "output_type": "stream"
    },
    {
     "name": "stderr",
     "text": "                                                              \r",
     "output_type": "stream"
    },
    {
     "name": "stdout",
     "text": "  - (Test)       loss:  41.16588, accuracy: 91.712 %, f1: 94.444%, fpr: 5.263%, time: 0.170 min\n[ Epoch 6 ]\n",
     "output_type": "stream"
    },
    {
     "name": "stderr",
     "text": "                                                                    \r",
     "output_type": "stream"
    },
    {
     "name": "stdout",
     "text": "  - (Training)   loss:  69.35303, accuracy: 92.602 %, f1: 93.333%, fpr: 20.000%, time: 0.960 min\n",
     "output_type": "stream"
    },
    {
     "name": "stderr",
     "text": "                                                              \r",
     "output_type": "stream"
    },
    {
     "name": "stdout",
     "text": "  - (Test)       loss:  33.90395, accuracy: 93.213 %, f1: 96.154%, fpr: 0.000%, time: 0.172 min\n[ Epoch 7 ]\n",
     "output_type": "stream"
    },
    {
     "name": "stderr",
     "text": "                                                                    \r",
     "output_type": "stream"
    },
    {
     "name": "stdout",
     "text": "  - (Training)   loss:  64.76013, accuracy: 93.279 %, f1: 94.737%, fpr: 9.091%, time: 0.961 min\n",
     "output_type": "stream"
    },
    {
     "name": "stderr",
     "text": "                                                              \r",
     "output_type": "stream"
    },
    {
     "name": "stdout",
     "text": "  - (Test)       loss:  35.65445, accuracy: 93.633 %, f1: 88.235%, fpr: 5.263%, time: 0.171 min\n[ Epoch 8 ]\n",
     "output_type": "stream"
    },
    {
     "name": "stderr",
     "text": "                                                                    \r",
     "output_type": "stream"
    },
    {
     "name": "stdout",
     "text": "  - (Training)   loss:  56.76382, accuracy: 94.266 %, f1: 92.308%, fpr: 14.286%, time: 0.962 min\n",
     "output_type": "stream"
    },
    {
     "name": "stderr",
     "text": "                                                              \r",
     "output_type": "stream"
    },
    {
     "name": "stdout",
     "text": "  - (Test)       loss:  30.76863, accuracy: 93.734 %, f1: 94.118%, fpr: 5.000%, time: 0.174 min\n[ Epoch 9 ]\n",
     "output_type": "stream"
    },
    {
     "name": "stderr",
     "text": "                                                                    \r",
     "output_type": "stream"
    },
    {
     "name": "stdout",
     "text": "  - (Training)   loss:  52.51804, accuracy: 94.676 %, f1: 96.552%, fpr: 0.000%, time: 0.966 min\n",
     "output_type": "stream"
    },
    {
     "name": "stderr",
     "text": "                                                              \r",
     "output_type": "stream"
    },
    {
     "name": "stdout",
     "text": "  - (Test)       loss:  29.04408, accuracy: 94.612 %, f1: 94.444%, fpr: 0.000%, time: 0.178 min\n[ Epoch 10 ]\n",
     "output_type": "stream"
    },
    {
     "name": "stderr",
     "text": "                                                                    \r",
     "output_type": "stream"
    },
    {
     "name": "stdout",
     "text": "  - (Training)   loss:  47.54799, accuracy: 95.248 %, f1: 100.000%, fpr: 0.000%, time: 0.965 min\n",
     "output_type": "stream"
    },
    {
     "name": "stderr",
     "text": "                                                              \r",
     "output_type": "stream"
    },
    {
     "name": "stdout",
     "text": "  - (Test)       loss:  25.14787, accuracy: 95.303 %, f1: 97.561%, fpr: 0.000%, time: 0.172 min\n[ Epoch 11 ]\n",
     "output_type": "stream"
    },
    {
     "name": "stderr",
     "text": "                                                                    \r",
     "output_type": "stream"
    },
    {
     "name": "stdout",
     "text": "  - (Training)   loss:  44.96420, accuracy: 95.504 %, f1: 100.000%, fpr: 0.000%, time: 0.966 min\n",
     "output_type": "stream"
    },
    {
     "name": "stderr",
     "text": "                                                              \r",
     "output_type": "stream"
    },
    {
     "name": "stdout",
     "text": "  - (Test)       loss:  24.42709, accuracy: 95.341 %, f1: 100.000%, fpr: 0.000%, time: 0.166 min\n[ Epoch 12 ]\n",
     "output_type": "stream"
    },
    {
     "name": "stderr",
     "text": "                                                                    \r",
     "output_type": "stream"
    },
    {
     "name": "stdout",
     "text": "  - (Training)   loss:  43.73905, accuracy: 95.603 %, f1: 96.552%, fpr: 16.667%, time: 0.980 min\n",
     "output_type": "stream"
    },
    {
     "name": "stderr",
     "text": "                                                              \r",
     "output_type": "stream"
    },
    {
     "name": "stdout",
     "text": "  - (Test)       loss:  24.50660, accuracy: 95.833 %, f1: 97.297%, fpr: 0.000%, time: 0.170 min\n[ Epoch 13 ]\n",
     "output_type": "stream"
    },
    {
     "name": "stderr",
     "text": "                                                                    \r",
     "output_type": "stream"
    },
    {
     "name": "stdout",
     "text": "  - (Training)   loss:  41.91168, accuracy: 95.895 %, f1: 100.000%, fpr: 0.000%, time: 0.976 min\n",
     "output_type": "stream"
    },
    {
     "name": "stderr",
     "text": "                                                              \r",
     "output_type": "stream"
    },
    {
     "name": "stdout",
     "text": "  - (Test)       loss:  19.98264, accuracy: 96.299 %, f1: 97.561%, fpr: 0.000%, time: 0.172 min\n[ Epoch 14 ]\n",
     "output_type": "stream"
    },
    {
     "name": "stderr",
     "text": "                                                                    \r",
     "output_type": "stream"
    },
    {
     "name": "stdout",
     "text": "  - (Training)   loss:  37.95289, accuracy: 96.244 %, f1: 96.296%, fpr: 0.000%, time: 0.988 min\n",
     "output_type": "stream"
    },
    {
     "name": "stderr",
     "text": "                                                              \r",
     "output_type": "stream"
    },
    {
     "name": "stdout",
     "text": "  - (Test)       loss:  22.98481, accuracy: 95.689 %, f1: 100.000%, fpr: 0.000%, time: 0.176 min\n[ Epoch 15 ]\n",
     "output_type": "stream"
    },
    {
     "name": "stderr",
     "text": "                                                                    \r",
     "output_type": "stream"
    },
    {
     "name": "stdout",
     "text": "  - (Training)   loss:  38.51204, accuracy: 96.275 %, f1: 95.238%, fpr: 0.000%, time: 0.978 min\n",
     "output_type": "stream"
    },
    {
     "name": "stderr",
     "text": "                                                              \r",
     "output_type": "stream"
    },
    {
     "name": "stdout",
     "text": "  - (Test)       loss:  19.00905, accuracy: 96.414 %, f1: 90.909%, fpr: 9.524%, time: 0.166 min\n[ Epoch 16 ]\n",
     "output_type": "stream"
    },
    {
     "name": "stderr",
     "text": "                                                                    \r",
     "output_type": "stream"
    },
    {
     "name": "stdout",
     "text": "  - (Training)   loss:  32.24758, accuracy: 96.847 %, f1: 100.000%, fpr: 0.000%, time: 0.969 min\n",
     "output_type": "stream"
    },
    {
     "name": "stderr",
     "text": "                                                              \r",
     "output_type": "stream"
    },
    {
     "name": "stdout",
     "text": "  - (Test)       loss:  16.19737, accuracy: 96.943 %, f1: 95.000%, fpr: 5.882%, time: 0.173 min\n[ Epoch 17 ]\n",
     "output_type": "stream"
    },
    {
     "name": "stderr",
     "text": "                                                                    \r",
     "output_type": "stream"
    },
    {
     "name": "stdout",
     "text": "  - (Training)   loss:  39.61317, accuracy: 96.148 %, f1: 100.000%, fpr: 0.000%, time: 0.964 min\n",
     "output_type": "stream"
    },
    {
     "name": "stderr",
     "text": "                                                              \r",
     "output_type": "stream"
    },
    {
     "name": "stdout",
     "text": "  - (Test)       loss:  17.29373, accuracy: 96.910 %, f1: 77.419%, fpr: 14.286%, time: 0.172 min\n[ Epoch 18 ]\n",
     "output_type": "stream"
    },
    {
     "name": "stderr",
     "text": "                                                                    \r",
     "output_type": "stream"
    },
    {
     "name": "stdout",
     "text": "  - (Training)   loss:  28.39631, accuracy: 97.196 %, f1: 100.000%, fpr: 0.000%, time: 0.964 min\n",
     "output_type": "stream"
    },
    {
     "name": "stderr",
     "text": "                                                              \r",
     "output_type": "stream"
    },
    {
     "name": "stdout",
     "text": "  - (Test)       loss:  17.55394, accuracy: 96.770 %, f1: 94.118%, fpr: 0.000%, time: 0.175 min\n[ Epoch 19 ]\n",
     "output_type": "stream"
    },
    {
     "name": "stderr",
     "text": "                                                                    \r",
     "output_type": "stream"
    },
    {
     "name": "stdout",
     "text": "  - (Training)   loss:  26.96396, accuracy: 97.361 %, f1: 100.000%, fpr: 0.000%, time: 0.970 min\n",
     "output_type": "stream"
    },
    {
     "name": "stderr",
     "text": "                                                              ",
     "output_type": "stream"
    },
    {
     "name": "stdout",
     "text": "  - (Test)       loss:  15.10979, accuracy: 97.100 %, f1: 97.436%, fpr: 5.556%, time: 0.175 min\n",
     "output_type": "stream"
    },
    {
     "name": "stderr",
     "text": "\r",
     "output_type": "stream"
    }
   ]
  },
  {
   "cell_type": "code",
   "source": "torch.save(model, 'lstm_title_text.pt')",
   "metadata": {
    "execution": {
     "iopub.status.busy": "2022-06-21T21:52:14.792217Z",
     "iopub.execute_input": "2022-06-21T21:52:14.792573Z",
     "iopub.status.idle": "2022-06-21T21:52:14.840104Z",
     "shell.execute_reply.started": "2022-06-21T21:52:14.792537Z",
     "shell.execute_reply": "2022-06-21T21:52:14.839235Z"
    },
    "trusted": true
   },
   "execution_count": 49,
   "outputs": []
  },
  {
   "cell_type": "code",
   "source": "output_model = OutputModel(task=task)\noutput_model.update_weights(weights_filename='./lstm_title_text.pt')",
   "metadata": {
    "execution": {
     "iopub.status.busy": "2022-06-21T21:52:15.613099Z",
     "iopub.execute_input": "2022-06-21T21:52:15.613460Z",
     "iopub.status.idle": "2022-06-21T21:52:18.905779Z",
     "shell.execute_reply.started": "2022-06-21T21:52:15.613430Z",
     "shell.execute_reply": "2022-06-21T21:52:18.904970Z"
    },
    "trusted": true
   },
   "execution_count": 50,
   "outputs": [
    {
     "name": "stdout",
     "text": "2022-06-21 21:52:18,170 - clearml.model - INFO - No output storage destination defined, registering local model ./lstm_title_text1.pt\n",
     "output_type": "stream"
    }
   ]
  },
  {
   "cell_type": "code",
   "source": "task.mark_completed()\ntask.close()",
   "metadata": {
    "execution": {
     "iopub.status.busy": "2022-06-21T21:52:34.694173Z",
     "iopub.execute_input": "2022-06-21T21:52:34.695012Z",
     "iopub.status.idle": "2022-06-21T21:52:35.070142Z",
     "shell.execute_reply.started": "2022-06-21T21:52:34.694976Z",
     "shell.execute_reply": "2022-06-21T21:52:35.069366Z"
    },
    "trusted": true
   },
   "execution_count": 51,
   "outputs": []
  },
  {
   "cell_type": "code",
   "source": "",
   "metadata": {},
   "execution_count": null,
   "outputs": []
  }
 ]
}